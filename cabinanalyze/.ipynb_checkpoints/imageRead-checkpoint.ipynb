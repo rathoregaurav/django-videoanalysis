{
 "cells": [
  {
   "cell_type": "code",
   "execution_count": 49,
   "metadata": {},
   "outputs": [
    {
     "name": "stdout",
     "output_type": "stream",
     "text": [
      "Found 3 faces!\n",
      "[[ 16  57  39  39]\n",
      " [ 85  58  38  38]\n",
      " [143  58  40  40]]\n",
      "194 259 3\n",
      "Cabin No: 1 is Full.\n",
      "Cabin No: 2 is Full.\n",
      "Cabin No: 3 is Full.\n",
      "Cabin No: 4 is Empty.\n"
     ]
    }
   ],
   "source": [
    "import cv2\n",
    "import sys\n",
    "\n",
    "numberOfCabins=4\n",
    "imagePath = \"/Users/gaurav/AnacondaProjects/FaceDetect-master/c04.jpg\"\n",
    "cascPath = \"haarcascade_frontalface_default.xml\"\n",
    "\n",
    "faceCascade = cv2.CascadeClassifier(cascPath)\n",
    "\n",
    "image = cv2.imread(imagePath)\n",
    "height, width, channels = image.shape\n",
    "gray = cv2.cvtColor(image, cv2.COLOR_BGR2GRAY)\n",
    "\n",
    "faces = faceCascade.detectMultiScale(\n",
    "    gray,\n",
    "    scaleFactor=1.1,\n",
    "    minNeighbors=5,\n",
    "    minSize=(30, 30)\n",
    "    #flags = cv2.cv.CV_HAAR_SCALE_IMAGE\n",
    ")\n",
    "\n",
    "print(\"Found {0} faces!\".format(len(faces)))\n",
    "print faces\n",
    "print height, width, channels\n",
    "\n",
    "# # Draw a rectangle around the faces\n",
    "# for (x, y, w, h) in faces:\n",
    "#     #cv2.rectangle(image, (x, y), (x+w, y+h), (0, 255, 0), 2)\n",
    "#     print x,y,w,h\n",
    "\n",
    "# cv2.imshow(\"Faces found\", image)\n",
    "# # cv2.waitKey(0)\n",
    "\n",
    "# print len(faces)\n",
    "# print width\n",
    "cabinSpace = width/numberOfCabins\n",
    "totalCabins = numberOfCabins\n",
    "\n",
    "cabinChunk = []\n",
    "for i in range(numberOfCabins):\n",
    "    cabin = []\n",
    "    cabinInfo = {}\n",
    "    cabinStart = cabinSpace*i\n",
    "    cabinEnd = cabinSpace*(i+1)\n",
    "    cabin.append(cabinStart)\n",
    "    cabin.append(cabinEnd)\n",
    "    cabinInfo[\"cabinLocation\"] = cabin\n",
    "    cabinInfo[\"isCabinFull\"] = True\n",
    "    cabinInfo[\"cabinNumber\"] = i\n",
    "    cabinChunk.append(cabinInfo)    \n",
    "    \n",
    "# if len(faces)<numberOfCabins:\n",
    "if True:\n",
    "    cabinStatus = []\n",
    "    for cabin in cabinChunk:\n",
    "        cabinInfoBool = []\n",
    "        for i in faces:\n",
    "            if i[0] in range(cabin[\"cabinLocation\"][0], cabin[\"cabinLocation\"][1]):\n",
    "                cabinInfoBool.append(True)\n",
    "            else:\n",
    "                cabinInfoBool.append(False)\n",
    "        temp = False\n",
    "        for i in cabinInfoBool:\n",
    "            temp = i or temp\n",
    "        cabin[\"isCabinFull\"] = temp\n",
    "        if cabin[\"isCabinFull\"] == True:\n",
    "            print \"Cabin No: \"+str(cabin[\"cabinNumber\"]+1)+\" is Full.\"\n",
    "        elif cabin[\"isCabinFull\"] == False:\n",
    "            print \"Cabin No: \"+str(cabin[\"cabinNumber\"]+1)+\" is Empty.\"\n",
    "# print cabinChunk\n",
    "\n",
    "\n"
   ]
  },
  {
   "cell_type": "code",
   "execution_count": null,
   "metadata": {
    "collapsed": true
   },
   "outputs": [],
   "source": []
  }
 ],
 "metadata": {
  "kernelspec": {
   "display_name": "Python 2",
   "language": "python",
   "name": "python2"
  },
  "language_info": {
   "codemirror_mode": {
    "name": "ipython",
    "version": 2
   },
   "file_extension": ".py",
   "mimetype": "text/x-python",
   "name": "python",
   "nbconvert_exporter": "python",
   "pygments_lexer": "ipython2",
   "version": "2.7.13"
  }
 },
 "nbformat": 4,
 "nbformat_minor": 2
}
